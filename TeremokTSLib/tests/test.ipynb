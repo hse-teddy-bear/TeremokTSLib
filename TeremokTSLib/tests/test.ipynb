{
 "cells": [
  {
   "cell_type": "code",
   "execution_count": 1,
   "metadata": {},
   "outputs": [],
   "source": [
    "import pandas as pd\n",
    "import numpy as np"
   ]
  },
  {
   "cell_type": "code",
   "execution_count": 10,
   "metadata": {},
   "outputs": [
    {
     "data": {
      "text/plain": [
       "array([ 1., -0.,  1.])"
      ]
     },
     "execution_count": 10,
     "metadata": {},
     "output_type": "execute_result"
    }
   ],
   "source": [
    "x = np.array([2,-4,3])\n",
    "y = np.array([2,-4,3])\n",
    "x[x < 0] = 0\n",
    "x / y"
   ]
  },
  {
   "cell_type": "code",
   "execution_count": 46,
   "metadata": {},
   "outputs": [],
   "source": [
    "def fill_missing_consumption(data: pd.DataFrame) -> pd.DataFrame:\n",
    "\n",
    "    data = data.sort_values(by='date')\n",
    "    for idx, row in data.iterrows():\n",
    "        if pd.isna(row['consumption']):\n",
    "            current_date = row['date']\n",
    "            prev_5_days = data[(data['date'] < current_date) & (data['consumption'].notna())].tail(5)\n",
    "            next_5_days = data[(data['date'] > current_date) & (data['consumption'].notna())].head(5)\n",
    "            relevant_days = pd.concat([prev_5_days, next_5_days])\n",
    "            mean_value = relevant_days['consumption'].mean()\n",
    "            data.at[idx, 'consumption'] = mean_value\n",
    "\n",
    "    return data\n",
    "\n",
    "# Пример использования\n",
    "data = pd.DataFrame({\n",
    "    'date': pd.date_range(start='2023-01-01', periods=3, freq='D'),\n",
    "    'consumption': [30, None, 50]\n",
    "})\n",
    "\n",
    "filled_data = fill_missing_consumption(data)"
   ]
  },
  {
   "cell_type": "code",
   "execution_count": 47,
   "metadata": {},
   "outputs": [
    {
     "data": {
      "text/html": [
       "<div>\n",
       "<style scoped>\n",
       "    .dataframe tbody tr th:only-of-type {\n",
       "        vertical-align: middle;\n",
       "    }\n",
       "\n",
       "    .dataframe tbody tr th {\n",
       "        vertical-align: top;\n",
       "    }\n",
       "\n",
       "    .dataframe thead th {\n",
       "        text-align: right;\n",
       "    }\n",
       "</style>\n",
       "<table border=\"1\" class=\"dataframe\">\n",
       "  <thead>\n",
       "    <tr style=\"text-align: right;\">\n",
       "      <th></th>\n",
       "      <th>date</th>\n",
       "      <th>consumption</th>\n",
       "    </tr>\n",
       "  </thead>\n",
       "  <tbody>\n",
       "    <tr>\n",
       "      <th>0</th>\n",
       "      <td>2023-01-01</td>\n",
       "      <td>30.0</td>\n",
       "    </tr>\n",
       "    <tr>\n",
       "      <th>1</th>\n",
       "      <td>2023-01-02</td>\n",
       "      <td>NaN</td>\n",
       "    </tr>\n",
       "    <tr>\n",
       "      <th>2</th>\n",
       "      <td>2023-01-03</td>\n",
       "      <td>50.0</td>\n",
       "    </tr>\n",
       "  </tbody>\n",
       "</table>\n",
       "</div>"
      ],
      "text/plain": [
       "        date  consumption\n",
       "0 2023-01-01         30.0\n",
       "1 2023-01-02          NaN\n",
       "2 2023-01-03         50.0"
      ]
     },
     "execution_count": 47,
     "metadata": {},
     "output_type": "execute_result"
    }
   ],
   "source": [
    "data"
   ]
  },
  {
   "cell_type": "code",
   "execution_count": 44,
   "metadata": {},
   "outputs": [
    {
     "data": {
      "text/plain": [
       "59.875"
      ]
     },
     "execution_count": 44,
     "metadata": {},
     "output_type": "execute_result"
    }
   ],
   "source": [
    "np.mean([20, 49, 30, 50, 60, 80, 90, 100])"
   ]
  },
  {
   "cell_type": "code",
   "execution_count": 48,
   "metadata": {},
   "outputs": [
    {
     "data": {
      "text/html": [
       "<div>\n",
       "<style scoped>\n",
       "    .dataframe tbody tr th:only-of-type {\n",
       "        vertical-align: middle;\n",
       "    }\n",
       "\n",
       "    .dataframe tbody tr th {\n",
       "        vertical-align: top;\n",
       "    }\n",
       "\n",
       "    .dataframe thead th {\n",
       "        text-align: right;\n",
       "    }\n",
       "</style>\n",
       "<table border=\"1\" class=\"dataframe\">\n",
       "  <thead>\n",
       "    <tr style=\"text-align: right;\">\n",
       "      <th></th>\n",
       "      <th>date</th>\n",
       "      <th>consumption</th>\n",
       "    </tr>\n",
       "  </thead>\n",
       "  <tbody>\n",
       "    <tr>\n",
       "      <th>0</th>\n",
       "      <td>2023-01-01</td>\n",
       "      <td>30.0</td>\n",
       "    </tr>\n",
       "    <tr>\n",
       "      <th>1</th>\n",
       "      <td>2023-01-02</td>\n",
       "      <td>40.0</td>\n",
       "    </tr>\n",
       "    <tr>\n",
       "      <th>2</th>\n",
       "      <td>2023-01-03</td>\n",
       "      <td>50.0</td>\n",
       "    </tr>\n",
       "  </tbody>\n",
       "</table>\n",
       "</div>"
      ],
      "text/plain": [
       "        date  consumption\n",
       "0 2023-01-01         30.0\n",
       "1 2023-01-02         40.0\n",
       "2 2023-01-03         50.0"
      ]
     },
     "execution_count": 48,
     "metadata": {},
     "output_type": "execute_result"
    }
   ],
   "source": [
    "filled_data"
   ]
  },
  {
   "cell_type": "code",
   "execution_count": 52,
   "metadata": {},
   "outputs": [
    {
     "data": {
      "text/html": [
       "<div>\n",
       "<style scoped>\n",
       "    .dataframe tbody tr th:only-of-type {\n",
       "        vertical-align: middle;\n",
       "    }\n",
       "\n",
       "    .dataframe tbody tr th {\n",
       "        vertical-align: top;\n",
       "    }\n",
       "\n",
       "    .dataframe thead th {\n",
       "        text-align: right;\n",
       "    }\n",
       "</style>\n",
       "<table border=\"1\" class=\"dataframe\">\n",
       "  <thead>\n",
       "    <tr style=\"text-align: right;\">\n",
       "      <th></th>\n",
       "      <th>date</th>\n",
       "      <th>consumption</th>\n",
       "    </tr>\n",
       "  </thead>\n",
       "  <tbody>\n",
       "    <tr>\n",
       "      <th>0</th>\n",
       "      <td>2023-07-10</td>\n",
       "      <td>10.0</td>\n",
       "    </tr>\n",
       "    <tr>\n",
       "      <th>1</th>\n",
       "      <td>2023-07-11</td>\n",
       "      <td>NaN</td>\n",
       "    </tr>\n",
       "    <tr>\n",
       "      <th>2</th>\n",
       "      <td>2023-07-12</td>\n",
       "      <td>20.0</td>\n",
       "    </tr>\n",
       "    <tr>\n",
       "      <th>3</th>\n",
       "      <td>2023-07-13</td>\n",
       "      <td>30.0</td>\n",
       "    </tr>\n",
       "  </tbody>\n",
       "</table>\n",
       "</div>"
      ],
      "text/plain": [
       "        date  consumption\n",
       "0 2023-07-10         10.0\n",
       "1 2023-07-11          NaN\n",
       "2 2023-07-12         20.0\n",
       "3 2023-07-13         30.0"
      ]
     },
     "execution_count": 52,
     "metadata": {},
     "output_type": "execute_result"
    }
   ],
   "source": [
    "def add_missing_dates(data: pd.DataFrame) -> pd.DataFrame:\n",
    "    # Убедимся, что датафрейм отсортирован по дате\n",
    "    data = data.sort_values(by='date').reset_index(drop=True)\n",
    "    \n",
    "    # Создадим полный диапазон дат от минимальной до максимальной даты в датафрейме\n",
    "    full_date_range = pd.date_range(start=data['date'].min(), end=data['date'].max())\n",
    "    \n",
    "    # Установим колонку 'date' в качестве индекса\n",
    "    data = data.set_index('date')\n",
    "    \n",
    "    # Дополним датафрейм недостающими датами\n",
    "    data = data.reindex(full_date_range).reset_index()\n",
    "    \n",
    "    # Переименуем колонку индекса обратно в 'date'\n",
    "    data = data.rename(columns={'index': 'date'})\n",
    "    \n",
    "    return data\n",
    "\n",
    "# Пример использования\n",
    "data = pd.DataFrame({\n",
    "    'date': pd.to_datetime(['2023-07-10', '2023-07-12', '2023-07-13']),\n",
    "    'consumption': [10, 20, 30]\n",
    "})\n",
    "\n",
    "filled_data = add_missing_dates(data)\n",
    "filled_data\n"
   ]
  },
  {
   "cell_type": "code",
   "execution_count": 53,
   "metadata": {},
   "outputs": [
    {
     "name": "stdout",
     "output_type": "stream",
     "text": [
      "DataFrame contains NaN values: True\n"
     ]
    }
   ],
   "source": [
    "\n",
    "# Sample DataFrame\n",
    "data = {\n",
    "    'A': [1, 2, None],\n",
    "    'B': [4, None, 6],\n",
    "    'C': [7, 8, 9]\n",
    "}\n",
    "df = pd.DataFrame(data)\n",
    "\n",
    "# Check for NaN values\n",
    "has_nan = df.isnull().values.any()\n",
    "print(\"DataFrame contains NaN values:\", has_nan)\n"
   ]
  },
  {
   "cell_type": "code",
   "execution_count": 34,
   "metadata": {},
   "outputs": [
    {
     "name": "stdout",
     "output_type": "stream",
     "text": [
      "0\n"
     ]
    }
   ],
   "source": [
    "inputs = list(map(int, input().split()))\n",
    "n, k, t = inputs[0], inputs[1], inputs[2]\n",
    "t = t - 1\n",
    "store = []\n",
    "for i in range(n):\n",
    "    store.append([i, int(input())])\n",
    "\n",
    "anchor_height = store[t][1]\n",
    "for i in range(n):\n",
    "    store[i][1] = abs(store[i][1] - anchor_height)\n",
    "\n",
    "sorted_store = sorted(store, key=lambda x: x[1])\n",
    "bought_values = []\n",
    "for i in range(k):\n",
    "    bought_values.append(sorted_store[i][1])\n",
    "minimal_diff = max(bought_values)\n",
    "\n",
    "print(minimal_diff)"
   ]
  },
  {
   "cell_type": "code",
   "execution_count": 46,
   "metadata": {},
   "outputs": [
    {
     "name": "stdout",
     "output_type": "stream",
     "text": [
      "2\n"
     ]
    }
   ],
   "source": [
    "inputs = list(map(int, input().split()))\n",
    "n, k, t = inputs[0], inputs[1], inputs[2]\n",
    "heights = []\n",
    "for i in range(n):\n",
    "    heights.append(int(input()))\n",
    "\n",
    "def minimal_height_difference(N, K, t, heights):\n",
    "    t_index = t - 1\n",
    "    t_height = heights[t_index]\n",
    "    sorted_heights = sorted(heights)\n",
    "    \n",
    "    t_position = sorted_heights.index(t_height)\n",
    "    minimal_diff = float('inf')\n",
    "    \n",
    "    for start in range(max(0, t_position - K + 1), min(N - K + 1, t_position + 1)):\n",
    "        end = start + K\n",
    "        if t_position >= start and t_position < end:\n",
    "            current_diff = sorted_heights[end - 1] - sorted_heights[start]\n",
    "            minimal_diff = min(minimal_diff, current_diff)\n",
    "    \n",
    "    return minimal_diff\n",
    "\n",
    "print(minimal_height_difference(n, k, t, heights))"
   ]
  },
  {
   "cell_type": "code",
   "execution_count": 47,
   "metadata": {},
   "outputs": [
    {
     "name": "stdout",
     "output_type": "stream",
     "text": [
      "2\n",
      "-1\n"
     ]
    }
   ],
   "source": [
    "def calculate_max_tips(n, employees):\n",
    "    employees.sort(key=lambda x: x[0] + x[1])\n",
    "    print(employees)\n",
    "    \n",
    "    current_time = 0\n",
    "    total_tips = 0\n",
    "    \n",
    "    for a_i, b_i in employees:\n",
    "        delivery_time = current_time + b_i\n",
    "        total_tips += a_i - delivery_time\n",
    "        current_time = delivery_time\n",
    "    \n",
    "    return total_tips\n",
    "\n",
    "def update_employees(employees, i, A, B):\n",
    "    employees[i] = (A, B)\n",
    "\n",
    "\n",
    "n, q = map(int, input().split())\n",
    "employees = [tuple(map(int, input().split())) for _ in range(n)]\n",
    "results = []\n",
    "results.append(calculate_max_tips(n, employees))\n",
    "\n",
    "for _ in range(q):\n",
    "    i, A, B = map(int, input().split())\n",
    "    update_employees(employees, i - 1, A, B)\n",
    "    results.append(calculate_max_tips(n, employees))\n",
    "\n",
    "for result in results:\n",
    "    print(result)\n"
   ]
  },
  {
   "cell_type": "code",
   "execution_count": 56,
   "metadata": {},
   "outputs": [
    {
     "name": "stdout",
     "output_type": "stream",
     "text": [
      "2\n",
      "-1\n"
     ]
    }
   ],
   "source": [
    "def calculate_max_tips(n, employees):\n",
    "    dp = [-float('inf')] * (n + 1)\n",
    "    dp[0] = 0  \n",
    "    \n",
    "    sorted_indices = sorted(range(n), key=lambda i: employees[i][0] + employees[i][1])\n",
    "    \n",
    "    current_time = 0\n",
    "    for i in sorted_indices:\n",
    "        a_i, b_i = employees[i]\n",
    "        for j in range(n, 0, -1):\n",
    "            if dp[j - 1] != -float('inf'):\n",
    "                delivery_time = current_time + b_i\n",
    "                tips = a_i - delivery_time\n",
    "                dp[j] = max(dp[j], dp[j - 1] + tips)\n",
    "        current_time += b_i\n",
    "\n",
    "    return dp[n]\n",
    "\n",
    "def update_employees(employees, i, A, B):\n",
    "    employees[i] = (A, B)\n",
    "\n",
    "n, q = map(int, input().split())\n",
    "employees = [tuple(map(int, input().split())) for _ in range(n)]\n",
    "\n",
    "results = []\n",
    "results.append(calculate_max_tips(n, employees[:]))\n",
    "\n",
    "for _ in range(q):\n",
    "    i, A, B = map(int, input().split())\n",
    "    update_employees(employees, i - 1, A, B)\n",
    "    results.append(calculate_max_tips(n, employees[:]))\n",
    "\n",
    "for result in results:\n",
    "    print(result)\n"
   ]
  },
  {
   "cell_type": "code",
   "execution_count": 57,
   "metadata": {},
   "outputs": [
    {
     "name": "stdout",
     "output_type": "stream",
     "text": [
      "1\n",
      "-1\n"
     ]
    }
   ],
   "source": [
    "import heapq\n",
    "\n",
    "def calculate_max_tips(n, employees):\n",
    "    # Max-heap to get the maximum tips by negative value\n",
    "    heap = []\n",
    "    \n",
    "    for idx, (a_i, b_i) in enumerate(employees):\n",
    "        heapq.heappush(heap, (-(a_i - b_i), idx, a_i, b_i))\n",
    "    \n",
    "    current_time = 0\n",
    "    total_tips = 0\n",
    "    \n",
    "    visited = [False] * n\n",
    "    \n",
    "    while heap:\n",
    "        tip_diff, idx, a_i, b_i = heapq.heappop(heap)\n",
    "        if visited[idx]:\n",
    "            continue\n",
    "        \n",
    "        delivery_time = current_time + b_i\n",
    "        tip = a_i - delivery_time\n",
    "        total_tips += tip\n",
    "        current_time = delivery_time\n",
    "        \n",
    "        visited[idx] = True\n",
    "    \n",
    "    return total_tips\n",
    "\n",
    "def update_employees(employees, i, A, B):\n",
    "    employees[i] = (A, B)\n",
    "\n",
    "# Input reading\n",
    "n, q = map(int, input().split())\n",
    "employees = [tuple(map(int, input().split())) for _ in range(n)]\n",
    "\n",
    "# Initial calculation of max tips\n",
    "results = []\n",
    "results.append(calculate_max_tips(n, employees[:]))\n",
    "\n",
    "# Handling updates\n",
    "for _ in range(q):\n",
    "    i, A, B = map(int, input().split())\n",
    "    update_employees(employees, i - 1, A, B)\n",
    "    results.append(calculate_max_tips(n, employees[:]))\n",
    "\n",
    "# Print all results\n",
    "for result in results:\n",
    "    print(result)\n"
   ]
  },
  {
   "cell_type": "code",
   "execution_count": 60,
   "metadata": {},
   "outputs": [
    {
     "name": "stdout",
     "output_type": "stream",
     "text": [
      "2\n",
      "-1\n"
     ]
    }
   ],
   "source": [
    "def calculate_max_tips(n, employees):\n",
    "    # Backtracking helper function\n",
    "    def backtrack(current_time, tips, visited):\n",
    "        nonlocal max_tips\n",
    "        \n",
    "        # If all employees have been visited, update max_tips\n",
    "        if all(visited):\n",
    "            max_tips = max(max_tips, tips)\n",
    "            return\n",
    "        \n",
    "        for i in range(n):\n",
    "            if not visited[i]:\n",
    "                visited[i] = True\n",
    "                delivery_time = current_time + employees[i][1]\n",
    "                tip = employees[i][0] - delivery_time\n",
    "                backtrack(delivery_time, tips + tip, visited)\n",
    "                visited[i] = False\n",
    "    \n",
    "    max_tips = float('-inf')\n",
    "    visited = [False] * n\n",
    "    backtrack(0, 0, visited)\n",
    "    \n",
    "    return max_tips\n",
    "\n",
    "def update_employees(employees, i, A, B):\n",
    "    employees[i] = (A, B)\n",
    "\n",
    "# Input reading\n",
    "n, q = map(int, input().split())\n",
    "employees = [tuple(map(int, input().split())) for _ in range(n)]\n",
    "\n",
    "# Initial calculation of max tips\n",
    "results = []\n",
    "results.append(calculate_max_tips(n, employees[:]))\n",
    "\n",
    "# Handling updates\n",
    "for _ in range(q):\n",
    "    i, A, B = map(int, input().split())\n",
    "    update_employees(employees, i - 1, A, B)\n",
    "    results.append(calculate_max_tips(n, employees[:]))\n",
    "\n",
    "# Print all results\n",
    "for result in results:\n",
    "    print(result)"
   ]
  },
  {
   "cell_type": "code",
   "execution_count": 63,
   "metadata": {},
   "outputs": [
    {
     "name": "stdout",
     "output_type": "stream",
     "text": [
      "2\n",
      "-1\n"
     ]
    }
   ],
   "source": [
    "def calculate_max_tips(n, employees):\n",
    "\n",
    "    employees.sort()\n",
    "    max_tips = float('-inf')\n",
    "    \n",
    "    def backtrack(current_time, tips, visited):\n",
    "        nonlocal max_tips\n",
    "        \n",
    "        if all(visited):\n",
    "            max_tips = max(max_tips, tips)\n",
    "            return\n",
    "        \n",
    "        for i in range(n):\n",
    "            if not visited[i]:\n",
    "                visited[i] = True\n",
    "                \n",
    "                delivery_time = current_time + employees[i][1]\n",
    "                tip = employees[i][0] - delivery_time\n",
    "                \n",
    "                if tips + tip + sum(e[0] - e[1] for j, e in enumerate(employees) if not visited[j]) >= max_tips:\n",
    "                    backtrack(delivery_time, tips + tip, visited)\n",
    "\n",
    "                visited[i] = False\n",
    "    \n",
    "    visited = [False] * n\n",
    "    backtrack(0, 0, visited)\n",
    "    \n",
    "    return max_tips\n",
    "\n",
    "def update_employees(employees, i, A, B):\n",
    "    employees[i] = (A, B)\n",
    "\n",
    "\n",
    "n, q = map(int, input().split())\n",
    "employees = [tuple(map(int, input().split())) for _ in range(n)]\n",
    "\n",
    "results = []\n",
    "results.append(calculate_max_tips(n, employees[:]))\n",
    "\n",
    "for _ in range(q):\n",
    "    i, A, B = map(int, input().split())\n",
    "    update_employees(employees, i - 1, A, B)\n",
    "    results.append(calculate_max_tips(n, employees[:]))\n",
    "\n",
    "for result in results:\n",
    "    print(result)\n"
   ]
  },
  {
   "cell_type": "code",
   "execution_count": 67,
   "metadata": {},
   "outputs": [
    {
     "name": "stdout",
     "output_type": "stream",
     "text": [
      "2\n",
      "-1\n"
     ]
    }
   ],
   "source": [
    "def calculate_tips_and_penalties(n, employees):\n",
    "    max_tips = float('-inf')\n",
    "    employees.sort(key=lambda x: x[0])\n",
    "    \n",
    "    def branch_and_bound(current_index, current_time, current_tips):\n",
    "        nonlocal max_tips\n",
    "        if current_index == n:\n",
    "            max_tips = max(max_tips, current_tips)\n",
    "            return\n",
    "        \n",
    "        for i in range(current_index, n):\n",
    "            employees[current_index], employees[i] = employees[i], employees[current_index]\n",
    "            a_i, b_i = employees[current_index]\n",
    "            delivery_time = current_time + b_i\n",
    "            T = a_i - delivery_time\n",
    "            new_tips = current_tips + T\n",
    "            \n",
    "            if new_tips >= max_tips:\n",
    "                branch_and_bound(current_index + 1, delivery_time, new_tips)\n",
    "            \n",
    "            employees[current_index], employees[i] = employees[i], employees[current_index]\n",
    "    \n",
    "    branch_and_bound(0, 0, 0)\n",
    "    return max_tips\n",
    "\n",
    "def update_employees(employees, i, A, B):\n",
    "    employees[i] = (A, B)\n",
    "\n",
    "n, q = map(int, input().split())\n",
    "employees = [tuple(map(int, input().split())) for _ in range(n)]\n",
    "\n",
    "results = []\n",
    "results.append(calculate_tips_and_penalties(n, employees[:]))\n",
    "\n",
    "for _ in range(q):\n",
    "    i, A, B = map(int, input().split())\n",
    "    update_employees(employees, i - 1, A, B)\n",
    "    results.append(calculate_tips_and_penalties(n, employees[:]))\n",
    "\n",
    "for result in results:\n",
    "    print(result)"
   ]
  },
  {
   "cell_type": "code",
   "execution_count": 70,
   "metadata": {},
   "outputs": [
    {
     "name": "stdout",
     "output_type": "stream",
     "text": [
      "2\n",
      "2\n"
     ]
    }
   ],
   "source": [
    "def calculate_max_tips(n, employees):\n",
    "    from functools import lru_cache\n",
    "\n",
    "    employees.sort(key=lambda x: x[0])  # Сортируем сотрудников по времени обеда\n",
    "\n",
    "    @lru_cache(None)\n",
    "    def dfs_with_memo(current_index, current_time):\n",
    "        if current_index == n:\n",
    "            return 0\n",
    "        \n",
    "        max_tips = float('-inf')\n",
    "        \n",
    "        for next_index in range(current_index, n):\n",
    "            a_i, b_i = employees[next_index]\n",
    "            delivery_time = current_time + b_i\n",
    "            T = a_i - delivery_time\n",
    "            current_tips = T + dfs_with_memo(next_index + 1, delivery_time)\n",
    "            max_tips = max(max_tips, current_tips)\n",
    "        \n",
    "        return max_tips\n",
    "    \n",
    "    answer = dfs_with_memo(0, 0)\n",
    "    dfs_with_memo.cache_clear()\n",
    "    return answer\n",
    "\n",
    "def update_employees(employees, i, A, B):\n",
    "    employees[i] = (A, B)\n",
    "\n",
    "# Чтение входных данных\n",
    "n, q = map(int, input().split())\n",
    "employees = [tuple(map(int, input().split())) for _ in range(n)]\n",
    "\n",
    "# Результаты для начального и обновленных данных\n",
    "results = []\n",
    "results.append(calculate_max_tips(n, employees[:]))\n",
    "\n",
    "for _ in range(q):\n",
    "    i, A, B = map(int, input().split())\n",
    "    update_employees(employees, i - 1, A, B)\n",
    "    results.append(calculate_max_tips(n, employees[:]))\n",
    "\n",
    "for result in results:\n",
    "    print(result)"
   ]
  },
  {
   "cell_type": "code",
   "execution_count": null,
   "metadata": {},
   "outputs": [],
   "source": [
    " \n",
    "from collections import deque\n",
    "import math\n",
    "\n",
    "def bfs(capacity, source, sink, parent):\n",
    "    visited = [False] * len(capacity)\n",
    "    queue = deque([source])\n",
    "    visited[source] = True\n",
    "    \n",
    "    while queue:\n",
    "        u = queue.popleft()\n",
    "        \n",
    "        for v, cap in enumerate(capacity[u]):\n",
    "            if not visited[v] and cap > 0:  # Not yet visited and positive capacity\n",
    "                parent[v] = u\n",
    "                if v == sink:\n",
    "                    return True\n",
    "                queue.append(v)\n",
    "                visited[v] = True\n",
    "                \n",
    "    return False\n",
    "\n",
    "def edmonds_karp(capacity, source, sink):\n",
    "    parent = [-1] * len(capacity)\n",
    "    max_flow = 0\n",
    "    \n",
    "    while bfs(capacity, source, sink, parent):\n",
    "        path_flow = float('Inf')\n",
    "        s = sink\n",
    "        \n",
    "        while s != source:\n",
    "            path_flow = min(path_flow, capacity[parent[s]][s])\n",
    "            s = parent[s]\n",
    "        \n",
    "        v = sink\n",
    "        while v != source:\n",
    "            u = parent[v]\n",
    "            capacity[u][v] -= path_flow\n",
    "            capacity[v][u] += path_flow\n",
    "            v = parent[v]\n",
    "        \n",
    "        max_flow += path_flow\n",
    "    \n",
    "    return max_flow\n",
    "\n",
    "def distance(x1, y1, x2, y2):\n",
    "    return math.sqrt((x1 - x2) ** 2 + (y1 - y2) ** 2)\n",
    "\n",
    "def can_distribute_gifts(max_dist, children, points, n, m):\n",
    "    source = 0\n",
    "    sink = n + m + 1\n",
    "    capacity = [[0] * (n + m + 2) for _ in range(n + m + 2)]\n",
    "    \n",
    "    for i in range(1, n + 1):\n",
    "        capacity[source][i] = 1\n",
    "    \n",
    "    for j in range(n + 1, n + m + 1):\n",
    "        capacity[j][sink] = points[j - n - 1][2]\n",
    "    \n",
    "    for i in range(n):\n",
    "        for j in range(m):\n",
    "            if distance(children[i][0], children[i][1], points[j][0], points[j][1]) <= max_dist:\n",
    "                capacity[i + 1][n + j + 1] = 1\n",
    "    \n",
    "    max_flow = edmonds_karp(capacity, source, sink)\n",
    "    return max_flow == n\n",
    "\n",
    "def find_minimum_max_distance(m, n, children, points):\n",
    "    low, high = 0, max(\n",
    "        distance(children[i][0], children[i][1], points[j][0], points[j][1]) \n",
    "        for i in range(n) for j in range(m)\n",
    "    )\n",
    "    \n",
    "    while high - low > 1e-6:\n",
    "        mid = (low + high) / 2\n",
    "        if can_distribute_gifts(mid, children, points, n, m):\n",
    "            high = mid\n",
    "        else:\n",
    "            low = mid\n",
    "    \n",
    "    return high\n",
    "\n",
    "if __name__ == \"__main__\":\n",
    "    m, n = map(int, input().split())\n",
    "    children = [tuple(map(int, input().split())) for _ in range(n)]\n",
    "    points = [tuple(map(int, input().split())) for _ in range(m)]\n",
    "    \n",
    "    result = find_minimum_max_distance(m, n, children, points)\n",
    "    print(f\"{result:.6f}\")\n"
   ]
  }
 ],
 "metadata": {
  "kernelspec": {
   "display_name": "Python 3",
   "language": "python",
   "name": "python3"
  },
  "language_info": {
   "codemirror_mode": {
    "name": "ipython",
    "version": 3
   },
   "file_extension": ".py",
   "mimetype": "text/x-python",
   "name": "python",
   "nbconvert_exporter": "python",
   "pygments_lexer": "ipython3",
   "version": "3.11.5"
  }
 },
 "nbformat": 4,
 "nbformat_minor": 2
}
